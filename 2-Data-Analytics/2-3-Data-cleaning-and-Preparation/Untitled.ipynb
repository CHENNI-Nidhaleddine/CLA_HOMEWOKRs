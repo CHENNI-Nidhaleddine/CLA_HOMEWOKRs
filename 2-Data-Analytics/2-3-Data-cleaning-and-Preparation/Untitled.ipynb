{
 "cells": [
  {
   "cell_type": "markdown",
   "id": "f89f1075",
   "metadata": {},
   "source": [
    "## Data cleaning and preparation"
   ]
  },
  {
   "cell_type": "code",
   "execution_count": 2,
   "id": "4804086a",
   "metadata": {},
   "outputs": [],
   "source": [
    "import pandas as pd"
   ]
  },
  {
   "cell_type": "code",
   "execution_count": 3,
   "id": "5f49ab24",
   "metadata": {},
   "outputs": [],
   "source": [
    "df=pd.read_csv(\"videosUS.csv\")"
   ]
  },
  {
   "cell_type": "markdown",
   "id": "9efd71e8",
   "metadata": {},
   "source": [
    "#### Missing values within the  dataset and in which columns +Assumptions made about these missing values"
   ]
  },
  {
   "cell_type": "code",
   "execution_count": 4,
   "id": "a0cca51b",
   "metadata": {},
   "outputs": [
    {
     "data": {
      "text/plain": [
       "video_id                     0\n",
       "trending_date              466\n",
       "title                      466\n",
       "channel_title              466\n",
       "category_id                466\n",
       "publish_time               466\n",
       "tags                       466\n",
       "views                      466\n",
       "likes                      466\n",
       "dislikes                   466\n",
       "comment_count              466\n",
       "thumbnail_link             466\n",
       "comments_disabled          466\n",
       "ratings_disabled           466\n",
       "video_error_or_removed     466\n",
       "description               1036\n",
       "dtype: int64"
      ]
     },
     "execution_count": 4,
     "metadata": {},
     "output_type": "execute_result"
    }
   ],
   "source": [
    "df.isna().sum()\n",
    "#We have missing values in all columns except the video_id "
   ]
  },
  {
   "cell_type": "markdown",
   "id": "89eeab76",
   "metadata": {},
   "source": [
    "#### Getting the mean , median , quartiles of each numerical variable within this dataset."
   ]
  },
  {
   "cell_type": "code",
   "execution_count": 5,
   "id": "865ab61f",
   "metadata": {},
   "outputs": [
    {
     "name": "stdout",
     "output_type": "stream",
     "text": [
      "<class 'pandas.core.frame.DataFrame'>\n",
      "RangeIndex: 41415 entries, 0 to 41414\n",
      "Data columns (total 16 columns):\n",
      " #   Column                  Non-Null Count  Dtype  \n",
      "---  ------                  --------------  -----  \n",
      " 0   video_id                41415 non-null  object \n",
      " 1   trending_date           40949 non-null  object \n",
      " 2   title                   40949 non-null  object \n",
      " 3   channel_title           40949 non-null  object \n",
      " 4   category_id             40949 non-null  float64\n",
      " 5   publish_time            40949 non-null  object \n",
      " 6   tags                    40949 non-null  object \n",
      " 7   views                   40949 non-null  float64\n",
      " 8   likes                   40949 non-null  float64\n",
      " 9   dislikes                40949 non-null  float64\n",
      " 10  comment_count           40949 non-null  float64\n",
      " 11  thumbnail_link          40949 non-null  object \n",
      " 12  comments_disabled       40949 non-null  object \n",
      " 13  ratings_disabled        40949 non-null  object \n",
      " 14  video_error_or_removed  40949 non-null  object \n",
      " 15  description             40379 non-null  object \n",
      "dtypes: float64(5), object(11)\n",
      "memory usage: 5.1+ MB\n"
     ]
    }
   ],
   "source": [
    "df.info()\n",
    "# We have just five numerical columns values "
   ]
  },
  {
   "cell_type": "code",
   "execution_count": 6,
   "id": "900f2438",
   "metadata": {},
   "outputs": [
    {
     "data": {
      "text/html": [
       "<div>\n",
       "<style scoped>\n",
       "    .dataframe tbody tr th:only-of-type {\n",
       "        vertical-align: middle;\n",
       "    }\n",
       "\n",
       "    .dataframe tbody tr th {\n",
       "        vertical-align: top;\n",
       "    }\n",
       "\n",
       "    .dataframe thead th {\n",
       "        text-align: right;\n",
       "    }\n",
       "</style>\n",
       "<table border=\"1\" class=\"dataframe\">\n",
       "  <thead>\n",
       "    <tr style=\"text-align: right;\">\n",
       "      <th></th>\n",
       "      <th>category_id</th>\n",
       "      <th>views</th>\n",
       "      <th>likes</th>\n",
       "      <th>dislikes</th>\n",
       "      <th>comment_count</th>\n",
       "    </tr>\n",
       "  </thead>\n",
       "  <tbody>\n",
       "    <tr>\n",
       "      <th>count</th>\n",
       "      <td>40949.000000</td>\n",
       "      <td>4.094900e+04</td>\n",
       "      <td>4.094900e+04</td>\n",
       "      <td>4.094900e+04</td>\n",
       "      <td>4.094900e+04</td>\n",
       "    </tr>\n",
       "    <tr>\n",
       "      <th>mean</th>\n",
       "      <td>19.972429</td>\n",
       "      <td>2.360785e+06</td>\n",
       "      <td>7.426670e+04</td>\n",
       "      <td>3.711401e+03</td>\n",
       "      <td>8.446804e+03</td>\n",
       "    </tr>\n",
       "    <tr>\n",
       "      <th>std</th>\n",
       "      <td>7.568327</td>\n",
       "      <td>7.394114e+06</td>\n",
       "      <td>2.288853e+05</td>\n",
       "      <td>2.902971e+04</td>\n",
       "      <td>3.743049e+04</td>\n",
       "    </tr>\n",
       "    <tr>\n",
       "      <th>min</th>\n",
       "      <td>1.000000</td>\n",
       "      <td>5.490000e+02</td>\n",
       "      <td>0.000000e+00</td>\n",
       "      <td>0.000000e+00</td>\n",
       "      <td>0.000000e+00</td>\n",
       "    </tr>\n",
       "    <tr>\n",
       "      <th>25%</th>\n",
       "      <td>17.000000</td>\n",
       "      <td>2.423290e+05</td>\n",
       "      <td>5.424000e+03</td>\n",
       "      <td>2.020000e+02</td>\n",
       "      <td>6.140000e+02</td>\n",
       "    </tr>\n",
       "    <tr>\n",
       "      <th>50%</th>\n",
       "      <td>24.000000</td>\n",
       "      <td>6.818610e+05</td>\n",
       "      <td>1.809100e+04</td>\n",
       "      <td>6.310000e+02</td>\n",
       "      <td>1.856000e+03</td>\n",
       "    </tr>\n",
       "    <tr>\n",
       "      <th>75%</th>\n",
       "      <td>25.000000</td>\n",
       "      <td>1.823157e+06</td>\n",
       "      <td>5.541700e+04</td>\n",
       "      <td>1.938000e+03</td>\n",
       "      <td>5.755000e+03</td>\n",
       "    </tr>\n",
       "    <tr>\n",
       "      <th>max</th>\n",
       "      <td>43.000000</td>\n",
       "      <td>2.252119e+08</td>\n",
       "      <td>5.613827e+06</td>\n",
       "      <td>1.674420e+06</td>\n",
       "      <td>1.361580e+06</td>\n",
       "    </tr>\n",
       "  </tbody>\n",
       "</table>\n",
       "</div>"
      ],
      "text/plain": [
       "        category_id         views         likes      dislikes  comment_count\n",
       "count  40949.000000  4.094900e+04  4.094900e+04  4.094900e+04   4.094900e+04\n",
       "mean      19.972429  2.360785e+06  7.426670e+04  3.711401e+03   8.446804e+03\n",
       "std        7.568327  7.394114e+06  2.288853e+05  2.902971e+04   3.743049e+04\n",
       "min        1.000000  5.490000e+02  0.000000e+00  0.000000e+00   0.000000e+00\n",
       "25%       17.000000  2.423290e+05  5.424000e+03  2.020000e+02   6.140000e+02\n",
       "50%       24.000000  6.818610e+05  1.809100e+04  6.310000e+02   1.856000e+03\n",
       "75%       25.000000  1.823157e+06  5.541700e+04  1.938000e+03   5.755000e+03\n",
       "max       43.000000  2.252119e+08  5.613827e+06  1.674420e+06   1.361580e+06"
      ]
     },
     "execution_count": 6,
     "metadata": {},
     "output_type": "execute_result"
    }
   ],
   "source": [
    "df.describe()"
   ]
  },
  {
   "cell_type": "markdown",
   "id": "64cd2ff6",
   "metadata": {},
   "source": [
    "####  Spot the possible outliers in your dataset and get rid of them"
   ]
  },
  {
   "cell_type": "code",
   "execution_count": null,
   "id": "4c35a5eb",
   "metadata": {},
   "outputs": [],
   "source": []
  },
  {
   "cell_type": "markdown",
   "id": "5a345ab5",
   "metadata": {},
   "source": [
    "#### How many unique categories do you have ?"
   ]
  },
  {
   "cell_type": "code",
   "execution_count": 7,
   "id": "355cafe8",
   "metadata": {},
   "outputs": [
    {
     "data": {
      "text/plain": [
       "array([22., 24., 23., 28.,  1., 25., 17., 10., 15., 27., 26.,  2., 19.,\n",
       "       nan, 20., 29., 43.])"
      ]
     },
     "execution_count": 7,
     "metadata": {},
     "output_type": "execute_result"
    }
   ],
   "source": [
    "pd.unique(df['category_id'])"
   ]
  },
  {
   "cell_type": "markdown",
   "id": "97a26722",
   "metadata": {},
   "source": [
    "#### Is there any column that we need to adjust its type ?"
   ]
  },
  {
   "cell_type": "code",
   "execution_count": null,
   "id": "809cc02c",
   "metadata": {},
   "outputs": [],
   "source": []
  },
  {
   "cell_type": "markdown",
   "id": "b2f9c02c",
   "metadata": {},
   "source": [
    "#### Geting how many tags we have and which are the most common tags"
   ]
  },
  {
   "cell_type": "code",
   "execution_count": 8,
   "id": "09851031",
   "metadata": {},
   "outputs": [
    {
     "data": {
      "text/plain": [
       "[none]                                                                                                                                                                                                                                                                                                                                                                                                                                                                                                                               1535\n",
       "ABC|\"americanidol\"|\"idol\"|\"american idol\"|\"ryan\"|\"seacrest\"|\"ryan seacrest\"|\"katy\"|\"perry\"|\"katy perry\"|\"luke\"|\"bryan\"|\"luke bryan\"|\"lionel\"|\"richie\"|\"lionel richie\"|\"season 16\"|\"american idol XVI\"|\"television\"|\"ad\"|\"spring\"|\"2018\"|\"music\"|\"reality\"|\"competition\"|\"song\"|\"sing\"|\"audition\"|\"auditions\"|\"performance\"|\"live\"|\"fox\"|\"AI\"|\"hollywood\"|\"contestant\"|\"official\"|\"american\"|\"official american idol\"|\"hollywood week\"|\"hometown audition\"                                                                              87\n",
       "Jacksfilms|\"Jack Douglass\"|\"YGS\"|\"YGS 100\"|\"YGS 50\"|\"The Best of Your Grammar Sucks\"|\"Your Grammar Sucks\"|\"YIAY\"|\"Yesterday I Asked You\"|\"Fidget Spinners\"|\"Emoji Movie\"|\"Kermit Sings\"|\"JackAsk\"|\"Jack Ask\"|\"Dubstep Solves Everything\"|\"Frozen 2\"|\"iPhone Parody\"|\"Apple Parody\"                                                                                                                                                                                                                                                     80\n",
       "James Corden|\"The Late Late Show\"|\"Colbert\"|\"late night\"|\"late night show\"|\"Stephen Colbert\"|\"Comedy\"|\"monologue\"|\"comedian\"|\"impressions\"|\"celebrities\"|\"carpool\"|\"karaoke\"|\"CBS\"|\"Late Late Show\"|\"Corden\"|\"joke\"|\"jokes\"|\"funny\"|\"funny video\"|\"funny videos\"|\"humor\"|\"celebrity\"|\"celeb\"|\"hollywood\"|\"famous\"                                                                                                                                                                                                                      71\n",
       "The Late Show|\"Stephen Colbert\"|\"Colbert\"|\"Late Show\"|\"celebrities\"|\"late night\"|\"talk show\"|\"skits\"|\"bit\"|\"monologue\"|\"The Late Late Show\"|\"Late Late Show\"|\"letterman\"|\"david letterman\"|\"comedian\"|\"impressions\"|\"CBS\"|\"joke\"|\"jokes\"|\"funny\"|\"funny video\"|\"funny videos\"|\"humor\"|\"celebrity\"|\"celeb\"|\"hollywood\"|\"famous\"|\"James Corden\"|\"Corden\"|\"Comedy\"                                                                                                                                                                        66\n",
       "                                                                                                                                                                                                                                                                                                                                                                                                                                                                                                                                     ... \n",
       "espn|\"espn live\"|\"stephen a smith\"|\"stephen a. smith\"|\"stephen a smith reaction\"|\"stephen a.\"|\"stephen a\"|\"stephen a smith kevin durant\"|\"kevin durant\"|\"kevin durant warriors\"|\"steph curry\"|\"steph curry injury\"|\"first take\"|\"first take espn\"|\"espn first take\"|\"first take daily\"|\"first take today\"|\"first take nba\"|\"nba first take\"|\"nba\"|\"basketball\"                                                                                                                                                                          1\n",
       "Business Insider|\"Donald Trump\"|\"White House\"|\"President\"|\"Roy Moore\"|\"Endorsement\"|\"Sexual misconduct\"|\"Allegations\"                                                                                                                                                                                                                                                                                                                                                                                                                   1\n",
       "Netflix|\"Trailer\"|\"Netflix Original Series\"|\"Netflix Series\"|\"television\"|\"movies\"|\"streaming\"|\"movies online\"|\"television online\"|\"documentary\"|\"comedy\"|\"drama\"|\"08282016NtflxUSCAN\"|\"watch movies\"|\"Lost in Space\"|\"space\"|\"Sci-Fi\"|\"sci fi\"|\"science fiction\"|\"the Robinson family\"|\"Robinson family\"|\"Danger Will Robinson\"|\"teaser\"|\"trailer\"|\"sneak peek\"|\"spaceship\"|\"robots\"|\"aliens\"|\"lost in space episode one\"|\"space show\"|\"a new beginning\"|\"final frontier\"                                                              1\n",
       "atx psu|\"danger\"|\"fire\"|\"fuse\"|\"fuses\"|\"fusing\"|\"led\"|\"leds\"|\"psu\"|\"short circuit\"|\"short circuits\"|\"ws2812\"|\"ws2812b\"|\"thermocam\"                                                                                                                                                                                                                                                                                                                                                                                                      1\n",
       "Netflix|\"Trailer\"|\"Netflix Original Series\"|\"Netflix Series\"|\"television\"|\"movies\"|\"streaming\"|\"movies online\"|\"television online\"|\"documentary\"|\"comedy\"|\"drama\"|\"08282016NtflxUSCAN\"|\"watch movies\"|\"on netflix\"|\"THE CLOVERFIELD PARADOX\"|\"cloverfield\"|\"10 cloverfield lane\"|\"cloverfield paradox\"|\"monster\"|\"cloverfield movie\"|\"cloverfield prequel\"|\"bad robot\"|\"jj abrams\"|\"cloverfield anniversary\"|\"cloverfield lane\"|\"Julius Onah\"|\"sci fi\"|\"horror\"|\"Daniel Brühl\"|\"Elizabeth Debicki\"|\"Aksel Hennie\"|\"sci fi horror\"       1\n",
       "Name: tags, Length: 6055, dtype: int64"
      ]
     },
     "execution_count": 8,
     "metadata": {},
     "output_type": "execute_result"
    }
   ],
   "source": [
    "df['tags'].value_counts()"
   ]
  },
  {
   "cell_type": "code",
   "execution_count": null,
   "id": "71f8d67e",
   "metadata": {},
   "outputs": [],
   "source": []
  }
 ],
 "metadata": {
  "kernelspec": {
   "display_name": "Python 3",
   "language": "python",
   "name": "python3"
  },
  "language_info": {
   "codemirror_mode": {
    "name": "ipython",
    "version": 3
   },
   "file_extension": ".py",
   "mimetype": "text/x-python",
   "name": "python",
   "nbconvert_exporter": "python",
   "pygments_lexer": "ipython3",
   "version": "3.8.8"
  }
 },
 "nbformat": 4,
 "nbformat_minor": 5
}
