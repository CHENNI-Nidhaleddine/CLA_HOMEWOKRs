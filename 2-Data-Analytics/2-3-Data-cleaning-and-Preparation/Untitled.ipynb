{
 "cells": [
  {
   "cell_type": "markdown",
   "id": "f89f1075",
   "metadata": {},
   "source": [
    "## Data cleaning and preparation"
   ]
  },
  {
   "cell_type": "code",
   "execution_count": 4,
   "id": "4804086a",
   "metadata": {},
   "outputs": [],
   "source": [
    "import pandas as pd"
   ]
  },
  {
   "cell_type": "code",
   "execution_count": 14,
   "id": "5f49ab24",
   "metadata": {},
   "outputs": [],
   "source": [
    "df=pd.read_csv(\"videosUS.csv\")"
   ]
  },
  {
   "cell_type": "markdown",
   "id": "9efd71e8",
   "metadata": {},
   "source": [
    "#### Missing values within the  dataset and in which columns +Assumptions made about these missing values"
   ]
  },
  {
   "cell_type": "code",
   "execution_count": 6,
   "id": "a0cca51b",
   "metadata": {},
   "outputs": [
    {
     "data": {
      "text/plain": [
       "video_id                     0\n",
       "trending_date              466\n",
       "title                      466\n",
       "channel_title              466\n",
       "category_id                466\n",
       "publish_time               466\n",
       "tags                       466\n",
       "views                      466\n",
       "likes                      466\n",
       "dislikes                   466\n",
       "comment_count              466\n",
       "thumbnail_link             466\n",
       "comments_disabled          466\n",
       "ratings_disabled           466\n",
       "video_error_or_removed     466\n",
       "description               1036\n",
       "dtype: int64"
      ]
     },
     "execution_count": 6,
     "metadata": {},
     "output_type": "execute_result"
    }
   ],
   "source": [
    "df.isna().sum()\n",
    "#We have missing values in all columns except the video_id "
   ]
  },
  {
   "cell_type": "markdown",
   "id": "89eeab76",
   "metadata": {},
   "source": [
    "#### Getting the mean , median , quartiles of each numerical variable within this dataset."
   ]
  },
  {
   "cell_type": "code",
   "execution_count": 9,
   "id": "865ab61f",
   "metadata": {},
   "outputs": [
    {
     "name": "stdout",
     "output_type": "stream",
     "text": [
      "<class 'pandas.core.frame.DataFrame'>\n",
      "RangeIndex: 41415 entries, 0 to 41414\n",
      "Data columns (total 16 columns):\n",
      " #   Column                  Non-Null Count  Dtype  \n",
      "---  ------                  --------------  -----  \n",
      " 0   video_id                41415 non-null  object \n",
      " 1   trending_date           40949 non-null  object \n",
      " 2   title                   40949 non-null  object \n",
      " 3   channel_title           40949 non-null  object \n",
      " 4   category_id             40949 non-null  float64\n",
      " 5   publish_time            40949 non-null  object \n",
      " 6   tags                    40949 non-null  object \n",
      " 7   views                   40949 non-null  float64\n",
      " 8   likes                   40949 non-null  float64\n",
      " 9   dislikes                40949 non-null  float64\n",
      " 10  comment_count           40949 non-null  float64\n",
      " 11  thumbnail_link          40949 non-null  object \n",
      " 12  comments_disabled       40949 non-null  object \n",
      " 13  ratings_disabled        40949 non-null  object \n",
      " 14  video_error_or_removed  40949 non-null  object \n",
      " 15  description             40379 non-null  object \n",
      "dtypes: float64(5), object(11)\n",
      "memory usage: 5.1+ MB\n"
     ]
    }
   ],
   "source": [
    "df.info()\n",
    "# We have just five numerical columns values "
   ]
  },
  {
   "cell_type": "code",
   "execution_count": 11,
   "id": "900f2438",
   "metadata": {},
   "outputs": [
    {
     "data": {
      "text/html": [
       "<div>\n",
       "<style scoped>\n",
       "    .dataframe tbody tr th:only-of-type {\n",
       "        vertical-align: middle;\n",
       "    }\n",
       "\n",
       "    .dataframe tbody tr th {\n",
       "        vertical-align: top;\n",
       "    }\n",
       "\n",
       "    .dataframe thead th {\n",
       "        text-align: right;\n",
       "    }\n",
       "</style>\n",
       "<table border=\"1\" class=\"dataframe\">\n",
       "  <thead>\n",
       "    <tr style=\"text-align: right;\">\n",
       "      <th></th>\n",
       "      <th>category_id</th>\n",
       "      <th>views</th>\n",
       "      <th>likes</th>\n",
       "      <th>dislikes</th>\n",
       "      <th>comment_count</th>\n",
       "    </tr>\n",
       "  </thead>\n",
       "  <tbody>\n",
       "    <tr>\n",
       "      <th>count</th>\n",
       "      <td>40949.000000</td>\n",
       "      <td>4.094900e+04</td>\n",
       "      <td>4.094900e+04</td>\n",
       "      <td>4.094900e+04</td>\n",
       "      <td>4.094900e+04</td>\n",
       "    </tr>\n",
       "    <tr>\n",
       "      <th>mean</th>\n",
       "      <td>19.972429</td>\n",
       "      <td>2.360785e+06</td>\n",
       "      <td>7.426670e+04</td>\n",
       "      <td>3.711401e+03</td>\n",
       "      <td>8.446804e+03</td>\n",
       "    </tr>\n",
       "    <tr>\n",
       "      <th>std</th>\n",
       "      <td>7.568327</td>\n",
       "      <td>7.394114e+06</td>\n",
       "      <td>2.288853e+05</td>\n",
       "      <td>2.902971e+04</td>\n",
       "      <td>3.743049e+04</td>\n",
       "    </tr>\n",
       "    <tr>\n",
       "      <th>min</th>\n",
       "      <td>1.000000</td>\n",
       "      <td>5.490000e+02</td>\n",
       "      <td>0.000000e+00</td>\n",
       "      <td>0.000000e+00</td>\n",
       "      <td>0.000000e+00</td>\n",
       "    </tr>\n",
       "    <tr>\n",
       "      <th>25%</th>\n",
       "      <td>17.000000</td>\n",
       "      <td>2.423290e+05</td>\n",
       "      <td>5.424000e+03</td>\n",
       "      <td>2.020000e+02</td>\n",
       "      <td>6.140000e+02</td>\n",
       "    </tr>\n",
       "    <tr>\n",
       "      <th>50%</th>\n",
       "      <td>24.000000</td>\n",
       "      <td>6.818610e+05</td>\n",
       "      <td>1.809100e+04</td>\n",
       "      <td>6.310000e+02</td>\n",
       "      <td>1.856000e+03</td>\n",
       "    </tr>\n",
       "    <tr>\n",
       "      <th>75%</th>\n",
       "      <td>25.000000</td>\n",
       "      <td>1.823157e+06</td>\n",
       "      <td>5.541700e+04</td>\n",
       "      <td>1.938000e+03</td>\n",
       "      <td>5.755000e+03</td>\n",
       "    </tr>\n",
       "    <tr>\n",
       "      <th>max</th>\n",
       "      <td>43.000000</td>\n",
       "      <td>2.252119e+08</td>\n",
       "      <td>5.613827e+06</td>\n",
       "      <td>1.674420e+06</td>\n",
       "      <td>1.361580e+06</td>\n",
       "    </tr>\n",
       "  </tbody>\n",
       "</table>\n",
       "</div>"
      ],
      "text/plain": [
       "        category_id         views         likes      dislikes  comment_count\n",
       "count  40949.000000  4.094900e+04  4.094900e+04  4.094900e+04   4.094900e+04\n",
       "mean      19.972429  2.360785e+06  7.426670e+04  3.711401e+03   8.446804e+03\n",
       "std        7.568327  7.394114e+06  2.288853e+05  2.902971e+04   3.743049e+04\n",
       "min        1.000000  5.490000e+02  0.000000e+00  0.000000e+00   0.000000e+00\n",
       "25%       17.000000  2.423290e+05  5.424000e+03  2.020000e+02   6.140000e+02\n",
       "50%       24.000000  6.818610e+05  1.809100e+04  6.310000e+02   1.856000e+03\n",
       "75%       25.000000  1.823157e+06  5.541700e+04  1.938000e+03   5.755000e+03\n",
       "max       43.000000  2.252119e+08  5.613827e+06  1.674420e+06   1.361580e+06"
      ]
     },
     "execution_count": 11,
     "metadata": {},
     "output_type": "execute_result"
    }
   ],
   "source": [
    "df.describe()"
   ]
  },
  {
   "cell_type": "markdown",
   "id": "64cd2ff6",
   "metadata": {},
   "source": [
    "####  Spot the possible outliers in your dataset and get rid of them"
   ]
  },
  {
   "cell_type": "code",
   "execution_count": null,
   "id": "4c35a5eb",
   "metadata": {},
   "outputs": [],
   "source": []
  },
  {
   "cell_type": "markdown",
   "id": "5a345ab5",
   "metadata": {},
   "source": [
    "#### How many unique categories do you have ?"
   ]
  },
  {
   "cell_type": "code",
   "execution_count": 15,
   "id": "355cafe8",
   "metadata": {},
   "outputs": [
    {
     "data": {
      "text/plain": [
       "24.0    9964\n",
       "10.0    6472\n",
       "26.0    4146\n",
       "23.0    3457\n",
       "22.0    3210\n",
       "25.0    2487\n",
       "28.0    2401\n",
       "1.0     2345\n",
       "17.0    2174\n",
       "27.0    1656\n",
       "15.0     920\n",
       "20.0     817\n",
       "19.0     402\n",
       "2.0      384\n",
       "29.0      57\n",
       "43.0      57\n",
       "Name: category_id, dtype: int64"
      ]
     },
     "execution_count": 15,
     "metadata": {},
     "output_type": "execute_result"
    }
   ],
   "source": [
    "df['category_id'].value_counts()"
   ]
  },
  {
   "cell_type": "markdown",
   "id": "97a26722",
   "metadata": {},
   "source": [
    "#### Is there any column that we need to adjust its type ?"
   ]
  },
  {
   "cell_type": "code",
   "execution_count": null,
   "id": "809cc02c",
   "metadata": {},
   "outputs": [],
   "source": []
  },
  {
   "cell_type": "markdown",
   "id": "b2f9c02c",
   "metadata": {},
   "source": [
    "#### Geting how many tags we have and which are the most common tags"
   ]
  },
  {
   "cell_type": "code",
   "execution_count": 12,
   "id": "09851031",
   "metadata": {},
   "outputs": [
    {
     "data": {
      "text/plain": [
       "[none]                                                                                                                                                                                                                                                                                                                                                                                                                                                                                                                      1535\n",
       "ABC|\"americanidol\"|\"idol\"|\"american idol\"|\"ryan\"|\"seacrest\"|\"ryan seacrest\"|\"katy\"|\"perry\"|\"katy perry\"|\"luke\"|\"bryan\"|\"luke bryan\"|\"lionel\"|\"richie\"|\"lionel richie\"|\"season 16\"|\"american idol XVI\"|\"television\"|\"ad\"|\"spring\"|\"2018\"|\"music\"|\"reality\"|\"competition\"|\"song\"|\"sing\"|\"audition\"|\"auditions\"|\"performance\"|\"live\"|\"fox\"|\"AI\"|\"hollywood\"|\"contestant\"|\"official\"|\"american\"|\"official american idol\"|\"hollywood week\"|\"hometown audition\"                                                                     87\n",
       "Jacksfilms|\"Jack Douglass\"|\"YGS\"|\"YGS 100\"|\"YGS 50\"|\"The Best of Your Grammar Sucks\"|\"Your Grammar Sucks\"|\"YIAY\"|\"Yesterday I Asked You\"|\"Fidget Spinners\"|\"Emoji Movie\"|\"Kermit Sings\"|\"JackAsk\"|\"Jack Ask\"|\"Dubstep Solves Everything\"|\"Frozen 2\"|\"iPhone Parody\"|\"Apple Parody\"                                                                                                                                                                                                                                            80\n",
       "James Corden|\"The Late Late Show\"|\"Colbert\"|\"late night\"|\"late night show\"|\"Stephen Colbert\"|\"Comedy\"|\"monologue\"|\"comedian\"|\"impressions\"|\"celebrities\"|\"carpool\"|\"karaoke\"|\"CBS\"|\"Late Late Show\"|\"Corden\"|\"joke\"|\"jokes\"|\"funny\"|\"funny video\"|\"funny videos\"|\"humor\"|\"celebrity\"|\"celeb\"|\"hollywood\"|\"famous\"                                                                                                                                                                                                             71\n",
       "The Late Show|\"Stephen Colbert\"|\"Colbert\"|\"Late Show\"|\"celebrities\"|\"late night\"|\"talk show\"|\"skits\"|\"bit\"|\"monologue\"|\"The Late Late Show\"|\"Late Late Show\"|\"letterman\"|\"david letterman\"|\"comedian\"|\"impressions\"|\"CBS\"|\"joke\"|\"jokes\"|\"funny\"|\"funny video\"|\"funny videos\"|\"humor\"|\"celebrity\"|\"celeb\"|\"hollywood\"|\"famous\"|\"James Corden\"|\"Corden\"|\"Comedy\"                                                                                                                                                               66\n",
       "                                                                                                                                                                                                                                                                                                                                                                                                                                                                                                                            ... \n",
       "Revlon|\"Makeup\"|\"Revlon makeup\"|\"Makeup Trends\"|\"Women\"|\"Beauty\"|\"Celebrities\"|\"Makeup Tutorials\"|\"Gwen Stefani\"|\"Love in On\"|\"Cosmetics\"|\"Beauty Tools\"|\"Color Cosmetics\"|\"Ashley Graham\"|\"Adwoa Aboah\"|\"Imaan Hammam\"|\"Raquel Zimmerman\"|\"Revlon Live Boldly\"|\"Live Boldly\"|\"Revlon Anthem\"|\"Ashley Graham Revlon\"|\"Adwoa Aboah Revlon\"|\"Imaan Hammam Revlon\"|\"Rina Fukushi\"|\"Achok Majak\"|\"Revlon Brand Ambassador\"|\"Music Video\"|\"revlon music video\"|\"Live Boldly Campaign\"|\"Gal Gadot\"|\"Ashley Graham Live Boldly\"       1\n",
       "battle with charlie puth|\"rudy\"|\"mancuso\"|\"battle\"|\"with\"|\"charlie\"|\"puth\"|\"musical fiction\"|\"racist superman\"|\"Battle with Charlie Puth | Rudy Mancuso\"|\"lelepons\"|\"hannahstocking\"|\"rudymancuso\"|\"inanna\"|\"anwar\"|\"sarkis\"|\"shots\"|\"shotsstudios\"|\"alesso\"|\"anitta\"|\"brazil\"                                                                                                                                                                                                                                                 1\n",
       "The Tonight Show|\"Jimmy Fallon\"|\"Subway Busking\"|\"Maroon 5\"|\"NBC\"|\"NBC TV\"|\"Television\"|\"Funny\"|\"Talk Show\"|\"comedic\"|\"humor\"|\"snl\"|\"Fallon Stand-up\"|\"Fallon monologue\"|\"tonight\"|\"show\"|\"jokes\"|\"funny video\"|\"interview\"|\"variety\"|\"comedy sketches\"|\"talent\"|\"celebrities\"|\"video\"|\"clip\"|\"highlight\"|\"James Valentine\"|\"Adam Levine\"|\"Red Pill Blues\"|\"Overexposed\"|\"pop rock\"|\"funk rock\"|\"pop\"|\"Sugar\"|\"Crazy Little Thing Called Love\"                                                                                 1\n",
       "Olympics|\"2018\"|\"Winter Olympics\"|\"Shaun White\"|\"gold\"|\"medal\"|\"halfpipe\"|\"Pyeongchang\"|\"South Korea\"                                                                                                                                                                                                                                                                                                                                                                                                                          1\n",
       "abc|\"dancing\"|\"stars\"|\"dwts\"|\"Tonya Harding\"|\"Sasha Farber\"|\"Dancing with the Stars\"|\"Foxtrot\"|\"When You Believe\"|\"Season 26\"|\"Mariah Carey\"|\"Whitney Houston\"|\"DWTS Athletes\"|\"itonya\"                                                                                                                                                                                                                                                                                                                                        1\n",
       "Name: tags, Length: 6055, dtype: int64"
      ]
     },
     "execution_count": 12,
     "metadata": {},
     "output_type": "execute_result"
    }
   ],
   "source": [
    "df['tags'].value_counts()"
   ]
  },
  {
   "cell_type": "code",
   "execution_count": null,
   "id": "71f8d67e",
   "metadata": {},
   "outputs": [],
   "source": []
  }
 ],
 "metadata": {
  "kernelspec": {
   "display_name": "Python 3",
   "language": "python",
   "name": "python3"
  },
  "language_info": {
   "codemirror_mode": {
    "name": "ipython",
    "version": 3
   },
   "file_extension": ".py",
   "mimetype": "text/x-python",
   "name": "python",
   "nbconvert_exporter": "python",
   "pygments_lexer": "ipython3",
   "version": "3.8.8"
  }
 },
 "nbformat": 4,
 "nbformat_minor": 5
}
