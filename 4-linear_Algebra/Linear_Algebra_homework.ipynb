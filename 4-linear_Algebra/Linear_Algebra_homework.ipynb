{
 "cells": [
  {
   "cell_type": "markdown",
   "id": "a66d5c41",
   "metadata": {},
   "source": [
    "### Linear Algebra Homework"
   ]
  },
  {
   "cell_type": "code",
   "execution_count": 63,
   "id": "4ae80b97",
   "metadata": {},
   "outputs": [],
   "source": [
    "import numpy as np"
   ]
  },
  {
   "cell_type": "markdown",
   "id": "6268f58a",
   "metadata": {},
   "source": [
    "#### Reading matrix"
   ]
  },
  {
   "cell_type": "code",
   "execution_count": 64,
   "id": "712fe7ab",
   "metadata": {},
   "outputs": [
    {
     "name": "stdout",
     "output_type": "stream",
     "text": [
      "[[1 1 0 0]\n",
      " [0 1 0 0]\n",
      " [0 0 1 0]\n",
      " [1 0 0 1]]\n"
     ]
    }
   ],
   "source": [
    "mtx = np.loadtxt(\"input.txt\", dtype='i', delimiter=',')\n",
    "print(mtx)"
   ]
  },
  {
   "cell_type": "markdown",
   "id": "89f5d06e",
   "metadata": {},
   "source": [
    "#### Transpose"
   ]
  },
  {
   "cell_type": "code",
   "execution_count": 38,
   "id": "999aed5f",
   "metadata": {},
   "outputs": [
    {
     "name": "stdout",
     "output_type": "stream",
     "text": [
      "[[1 0 0 0]\n",
      " [2 2 0 0]\n",
      " [3 2 8 0]\n",
      " [4 3 7 3]]\n"
     ]
    }
   ],
   "source": [
    "print(mtx.T)"
   ]
  },
  {
   "attachments": {},
   "cell_type": "markdown",
   "id": "32120bcf",
   "metadata": {},
   "source": [
    "#### Checking if the matrix is one or many of the special types  (diagonal, triagonal...)."
   ]
  },
  {
   "cell_type": "code",
   "execution_count": 51,
   "id": "967c9cc8",
   "metadata": {},
   "outputs": [
    {
     "name": "stdout",
     "output_type": "stream",
     "text": [
      "not a special type\n"
     ]
    }
   ],
   "source": [
    "s=mtx.shape[0]\n",
    "isIdent=True\n",
    "isLtriag=True\n",
    "isStriag=True\n",
    "for i in range(s):\n",
    "    for j in range(s):\n",
    "        if i>j and mtx[i,j]!=0:\n",
    "            isStriag=False\n",
    "        if i<j and mtx[i,j]!=0:\n",
    "            isLtriag=False\n",
    "                                      \n",
    "if(isStriag and isLtriag):\n",
    "    for i in range(s):\n",
    "        if mtx[i,i]!=1:\n",
    "            isIdent=False\n",
    "    if isIdent:\n",
    "        print(\"It is Identity\")\n",
    "    else:\n",
    "        print(\"It is Diagonal\")\n",
    "elif isStriag and not isLtriag:\n",
    "    print(\"It is super triagonal\")\n",
    "elif isLtriag and not isStriag:\n",
    "    print(\"It is Lower triagonal\")\n",
    "else:\n",
    "    print(\"not a special type\")"
   ]
  },
  {
   "cell_type": "markdown",
   "id": "0dd73ce9",
   "metadata": {},
   "source": [
    "#### Calculating norm 1 and 2 of a chosen column"
   ]
  },
  {
   "cell_type": "code",
   "execution_count": 62,
   "id": "372c3121",
   "metadata": {},
   "outputs": [
    {
     "name": "stdout",
     "output_type": "stream",
     "text": [
      "2.0\n",
      "1.4142135623730951\n"
     ]
    }
   ],
   "source": [
    "C=np.array(mtx[:,0])\n",
    "print(np.linalg.norm(C,1))\n",
    "print(np.linalg.norm(C,2))"
   ]
  },
  {
   "cell_type": "code",
   "execution_count": null,
   "id": "20913ee9",
   "metadata": {},
   "outputs": [],
   "source": []
  }
 ],
 "metadata": {
  "kernelspec": {
   "display_name": "Python 3",
   "language": "python",
   "name": "python3"
  },
  "language_info": {
   "codemirror_mode": {
    "name": "ipython",
    "version": 3
   },
   "file_extension": ".py",
   "mimetype": "text/x-python",
   "name": "python",
   "nbconvert_exporter": "python",
   "pygments_lexer": "ipython3",
   "version": "3.8.8"
  }
 },
 "nbformat": 4,
 "nbformat_minor": 5
}
