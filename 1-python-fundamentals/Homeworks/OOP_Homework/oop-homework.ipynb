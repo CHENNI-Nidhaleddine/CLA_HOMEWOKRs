{
 "cells": [
  {
   "cell_type": "markdown",
   "id": "23c08145",
   "metadata": {},
   "source": [
    "### Writing a Python class named Rectangle constructed by a length and width and a method which will compute the area of a rectangle."
   ]
  },
  {
   "cell_type": "code",
   "execution_count": 1,
   "id": "84503ffe",
   "metadata": {},
   "outputs": [],
   "source": [
    "class Rectangle():\n",
    "    \n",
    "    def __init__(self,wid,len):\n",
    "        self.len=len\n",
    "        self.wid=wid\n",
    "    \n",
    "    def area(self):\n",
    "        return self.wid * self.len"
   ]
  },
  {
   "cell_type": "markdown",
   "id": "beecce37",
   "metadata": {},
   "source": [
    "### Create a Vehicle class with max_speed and mileage instance attributes"
   ]
  },
  {
   "cell_type": "code",
   "execution_count": 2,
   "id": "bbc18da6",
   "metadata": {},
   "outputs": [],
   "source": [
    "class Vehicle():\n",
    "    \n",
    "    def __init__(self,max_speed,mileage):\n",
    "        self.mileage=mileage\n",
    "        self.max_speed=max_speed"
   ]
  },
  {
   "cell_type": "markdown",
   "id": "a6a8773e",
   "metadata": {},
   "source": [
    "### Create a Vehicle class without any variables and methods."
   ]
  },
  {
   "cell_type": "code",
   "execution_count": 3,
   "id": "90df8eeb",
   "metadata": {},
   "outputs": [],
   "source": [
    "class Vehicle():\n",
    "    pass"
   ]
  },
  {
   "cell_type": "markdown",
   "id": "255e925d",
   "metadata": {},
   "source": [
    "### Create a child class Bus that will inherit all of the variables and methods of the Vehicle class"
   ]
  },
  {
   "cell_type": "code",
   "execution_count": 4,
   "id": "eeed0bf5",
   "metadata": {},
   "outputs": [],
   "source": [
    "class Bus(Vehicle):\n",
    "    pass"
   ]
  },
  {
   "cell_type": "code",
   "execution_count": null,
   "id": "1d51ebfb",
   "metadata": {},
   "outputs": [],
   "source": []
  }
 ],
 "metadata": {
  "kernelspec": {
   "display_name": "Python 3",
   "language": "python",
   "name": "python3"
  },
  "language_info": {
   "codemirror_mode": {
    "name": "ipython",
    "version": 3
   },
   "file_extension": ".py",
   "mimetype": "text/x-python",
   "name": "python",
   "nbconvert_exporter": "python",
   "pygments_lexer": "ipython3",
   "version": "3.8.8"
  }
 },
 "nbformat": 4,
 "nbformat_minor": 5
}
