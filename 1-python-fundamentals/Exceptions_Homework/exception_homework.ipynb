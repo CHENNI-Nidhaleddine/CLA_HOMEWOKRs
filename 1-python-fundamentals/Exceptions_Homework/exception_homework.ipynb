{
 "cells": [
  {
   "cell_type": "markdown",
   "id": "d03cc04d",
   "metadata": {},
   "source": [
    "## Exceptions Homework"
   ]
  },
  {
   "cell_type": "markdown",
   "id": "5b317f35",
   "metadata": {},
   "source": [
    "### Treats the possible exceptions that might arise in the given code"
   ]
  },
  {
   "cell_type": "code",
   "execution_count": 1,
   "id": "a30a27e2",
   "metadata": {},
   "outputs": [
    {
     "name": "stdout",
     "output_type": "stream",
     "text": [
      "12hello\n"
     ]
    }
   ],
   "source": [
    "a=12\n",
    "s=\"hello\"\n",
    "try:\n",
    "    print(a+s)\n",
    "except:\n",
    "    print(str(a)+s)\n"
   ]
  },
  {
   "cell_type": "code",
   "execution_count": null,
   "id": "bb9b86a7",
   "metadata": {},
   "outputs": [],
   "source": []
  }
 ],
 "metadata": {
  "kernelspec": {
   "display_name": "Python 3",
   "language": "python",
   "name": "python3"
  },
  "language_info": {
   "codemirror_mode": {
    "name": "ipython",
    "version": 3
   },
   "file_extension": ".py",
   "mimetype": "text/x-python",
   "name": "python",
   "nbconvert_exporter": "python",
   "pygments_lexer": "ipython3",
   "version": "3.8.8"
  }
 },
 "nbformat": 4,
 "nbformat_minor": 5
}
