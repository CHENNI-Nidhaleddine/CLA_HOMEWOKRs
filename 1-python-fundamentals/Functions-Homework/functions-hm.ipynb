{
 "cells": [
  {
   "cell_type": "markdown",
   "metadata": {},
   "source": [
    "### check if string is palindrome "
   ]
  },
  {
   "cell_type": "code",
   "execution_count": 1,
   "metadata": {},
   "outputs": [],
   "source": [
    "def isPalindrome(str):\n",
    "    i=0\n",
    "    j=len(str)-1\n",
    "    while not i>j:\n",
    "        if(str[i]!=str[j]): return False\n",
    "        else:\n",
    "            i=i+1\n",
    "            j=j-1\n",
    "    return True"
   ]
  },
  {
   "cell_type": "markdown",
   "metadata": {},
   "source": [
    "### check if number is prime"
   ]
  },
  {
   "cell_type": "code",
   "execution_count": 2,
   "metadata": {},
   "outputs": [],
   "source": [
    "def isPrime(num):\n",
    "    for i in range(2,int(num/2) +1):\n",
    "        if(num%i==0): return False\n",
    "    return True"
   ]
  },
  {
   "cell_type": "markdown",
   "metadata": {},
   "source": [
    "### check if number is in range"
   ]
  },
  {
   "cell_type": "code",
   "execution_count": 3,
   "metadata": {},
   "outputs": [],
   "source": [
    "def isInRange(num,range):\n",
    "    if(num<=range[1] and num>=range[0]): return True\n",
    "    else: return False"
   ]
  },
  {
   "cell_type": "markdown",
   "metadata": {},
   "source": [
    "### Calculate number factorial"
   ]
  },
  {
   "cell_type": "code",
   "execution_count": 4,
   "metadata": {},
   "outputs": [],
   "source": [
    "def fact(num):\n",
    "    if(num<0):return -1\n",
    "    if(num<2):return num\n",
    "    else: return fact(num-1)*num"
   ]
  },
  {
   "cell_type": "markdown",
   "metadata": {},
   "source": [
    "### Reverse a string"
   ]
  },
  {
   "cell_type": "code",
   "execution_count": 5,
   "metadata": {},
   "outputs": [],
   "source": [
    "def reverseString(str):\n",
    "    str2=\"\"\n",
    "    for i in range(len(str)):\n",
    "        str2=str2+str[len(str)-i-1]\n",
    "    return str2   "
   ]
  },
  {
   "cell_type": "markdown",
   "metadata": {},
   "source": [
    "### Sun numbers in a list"
   ]
  },
  {
   "cell_type": "code",
   "execution_count": 6,
   "metadata": {},
   "outputs": [],
   "source": [
    "def sum(list):\n",
    "    sum=0\n",
    "    for i in range(len(list)):\n",
    "        sum+=list[i]\n",
    "    return sum"
   ]
  },
  {
   "cell_type": "markdown",
   "metadata": {},
   "source": [
    "### max of three numbers"
   ]
  },
  {
   "cell_type": "code",
   "execution_count": 7,
   "metadata": {},
   "outputs": [],
   "source": [
    "def max(a,b,c):\n",
    "    if(a<b): a=b\n",
    "    if(a>c):return a\n",
    "    else:return c"
   ]
  },
  {
   "cell_type": "markdown",
   "metadata": {},
   "source": [
    "### Test of functions:"
   ]
  },
  {
   "cell_type": "code",
   "execution_count": 8,
   "metadata": {},
   "outputs": [
    {
     "name": "stdout",
     "output_type": "stream",
     "text": [
      "True\n",
      "False\n",
      "True\n",
      "6\n",
      "DCBA\n",
      "6\n",
      "6\n"
     ]
    }
   ],
   "source": [
    "print(isPalindrome(\"madam\"))\n",
    "print(isPrime(6))\n",
    "print(isInRange(6,[3,8]))\n",
    "print(fact(3))\n",
    "print(reverseString(\"ABCD\"))\n",
    "print(sum([3,2,1]))\n",
    "print(max(3,6,2))"
   ]
  },
  {
   "cell_type": "code",
   "execution_count": null,
   "metadata": {},
   "outputs": [],
   "source": []
  }
 ],
 "metadata": {
  "kernelspec": {
   "display_name": "Python 3",
   "language": "python",
   "name": "python3"
  },
  "language_info": {
   "codemirror_mode": {
    "name": "ipython",
    "version": 3
   },
   "file_extension": ".py",
   "mimetype": "text/x-python",
   "name": "python",
   "nbconvert_exporter": "python",
   "pygments_lexer": "ipython3",
   "version": "3.8.8"
  }
 },
 "nbformat": 4,
 "nbformat_minor": 1
}
