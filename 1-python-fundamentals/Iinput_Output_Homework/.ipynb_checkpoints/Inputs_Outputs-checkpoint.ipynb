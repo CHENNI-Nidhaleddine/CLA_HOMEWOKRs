{
 "cells": [
  {
   "cell_type": "markdown",
   "id": "4b783894",
   "metadata": {},
   "source": [
    "### I/O Homework "
   ]
  },
  {
   "cell_type": "code",
   "execution_count": 30,
   "id": "86d0b974",
   "metadata": {},
   "outputs": [],
   "source": [
    "import string\n",
    "import random"
   ]
  },
  {
   "cell_type": "markdown",
   "id": "571e2478",
   "metadata": {},
   "source": [
    "### Reading all of the content of the file in one variable"
   ]
  },
  {
   "cell_type": "code",
   "execution_count": 37,
   "id": "9eb1a4b4",
   "metadata": {},
   "outputs": [
    {
     "name": "stdout",
     "output_type": "stream",
     "text": [
      "IdHQNgU\n",
      "miYqWiDUd\n",
      "\n",
      "EdAotruz\n",
      "FGQDKrAY\n",
      "SWMCOQuD\n",
      "kFcgZU\n",
      "wkbt\n",
      "nrmuzl\n",
      "Gcci\n",
      "ydfbVGNNU\n",
      "hRnrQk\n",
      "Seu\n",
      "knTQ\n",
      "OMJqtxIau\n",
      "EZq\n",
      "fTbRI\n",
      "ByQSM\n",
      "oiIX\n",
      "IniujTZI\n",
      "dyNTqA\n",
      "qXONL\n",
      "tUpQ\n",
      "bZc\n",
      "ytq\n",
      "uQuEn\n",
      "OdbFs\n",
      "MEboBQCsb\n",
      "gKZdx\n",
      "gVG\n",
      "jEcPUGCkA\n",
      "RmYXyfRl\n",
      "zMQWW\n",
      "ExZIHxoCr\n",
      "yrmPeSyS\n",
      "Arha\n",
      "aGmhmJLyO\n",
      "TwQDiU\n",
      "dHmPSeOWB\n",
      "VRzUsWz\n",
      "\n"
     ]
    }
   ],
   "source": [
    "file=open(\"student_names.txt\",'r')\n",
    "content=file.read()\n",
    "print(content)\n",
    "file.close()"
   ]
  },
  {
   "cell_type": "markdown",
   "id": "cce09534",
   "metadata": {},
   "source": [
    "### Writing a list of random names to the file"
   ]
  },
  {
   "cell_type": "code",
   "execution_count": 38,
   "id": "bc94651b",
   "metadata": {},
   "outputs": [
    {
     "name": "stdout",
     "output_type": "stream",
     "text": [
      "How many names to generate?10\n"
     ]
    }
   ],
   "source": [
    "file=open(\"student_names.txt\",'w')\n",
    "nb_students=int(input(\"How many names to generate?\"))\n",
    "chars=\"abcdefghijklmnopqrstuvwxyzABCDEFGHIJKLMNOPQRSTUVWXYZ\"\n",
    "for i in range(nb_students):\n",
    "    name=\"\"\n",
    "    for j in range(random.randrange(3,10,1)):\n",
    "        name+=chars[random.randrange(0,52,1)]\n",
    "    file.write(name+\"\\n\")\n",
    "file.close()"
   ]
  },
  {
   "cell_type": "markdown",
   "id": "fb265539",
   "metadata": {},
   "source": [
    "### Reading the first n lines of files"
   ]
  },
  {
   "cell_type": "code",
   "execution_count": 46,
   "id": "99c38615",
   "metadata": {},
   "outputs": [
    {
     "name": "stdout",
     "output_type": "stream",
     "text": [
      "Enter the number of first line to be printed:2\n",
      "PTVJgkwEa\n",
      "vhP\n"
     ]
    }
   ],
   "source": [
    "file=open(\"student_names.txt\",'r')\n",
    "m=int(input(\"Enter the number of first line to be printed:\"))\n",
    "n=1\n",
    "for line in file:\n",
    "    line=line.rstrip()\n",
    "    print(line)\n",
    "    if n==m: break\n",
    "    n=n+1\n",
    "file.close()"
   ]
  },
  {
   "cell_type": "markdown",
   "id": "2f7c36cc",
   "metadata": {},
   "source": [
    "### Reading the last n line of file"
   ]
  },
  {
   "cell_type": "code",
   "execution_count": 54,
   "id": "3f0b7c9b",
   "metadata": {},
   "outputs": [
    {
     "name": "stdout",
     "output_type": "stream",
     "text": [
      "Enter the number of last lines to be printed:3\n",
      "Fazxx\n",
      "XavlLYCe\n",
      "FjLOpiuA\n"
     ]
    }
   ],
   "source": [
    "file=open(\"student_names.txt\",'r')\n",
    "m=int(input(\"Enter the number of last lines to be printed:\"))\n",
    "lines=file.readlines()\n",
    "\n",
    "for line in lines[-m:]:\n",
    "    line=line.rstrip()\n",
    "    print(line)\n",
    "file.close()"
   ]
  },
  {
   "cell_type": "markdown",
   "id": "80f976f9",
   "metadata": {},
   "source": [
    "### Check if name is in the file"
   ]
  },
  {
   "cell_type": "code",
   "execution_count": null,
   "id": "b1c19303",
   "metadata": {},
   "outputs": [],
   "source": [
    "file=open(\"student_names.txt\",'r')\n",
    "m=input(\"Enter the name to be checked:\")\n",
    "content=file.read()\n",
    "\n",
    "if m in content:\n",
    "    print(\"Name founded\")\n",
    "else:\n",
    "    print(\"Name not founded\")\n",
    "file.close()"
   ]
  },
  {
   "cell_type": "markdown",
   "id": "1cf1ab0a",
   "metadata": {},
   "source": [
    "### Generate alphabet files"
   ]
  },
  {
   "cell_type": "code",
   "execution_count": 62,
   "id": "d540b126",
   "metadata": {},
   "outputs": [],
   "source": [
    "char='A'\n",
    "while char != 'Z':\n",
    "    open(\"./files/\"+char+\".txt\",'w+')\n",
    "    char=chr(ord(char)+1) # to  the next char \n",
    "open(\"./files/\"+char+\".txt\",'w+')\n",
    "    "
   ]
  }
 ],
 "metadata": {
  "kernelspec": {
   "display_name": "Python 3",
   "language": "python",
   "name": "python3"
  },
  "language_info": {
   "codemirror_mode": {
    "name": "ipython",
    "version": 3
   },
   "file_extension": ".py",
   "mimetype": "text/x-python",
   "name": "python",
   "nbconvert_exporter": "python",
   "pygments_lexer": "ipython3",
   "version": "3.8.8"
  }
 },
 "nbformat": 4,
 "nbformat_minor": 5
}
